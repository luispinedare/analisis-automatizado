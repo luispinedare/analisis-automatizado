{
 "cells": [
  {
   "cell_type": "code",
   "execution_count": 1,
   "id": "903a715b-de41-422b-a1f0-36e4ac0d19e7",
   "metadata": {},
   "outputs": [],
   "source": [
    "from openai import OpenAI\n",
    "from IPython.display import display, Markdown\n",
    "\n",
    "# Inicializar cliente de OpenAI\n",
    "client = OpenAI()"
   ]
  },
  {
   "cell_type": "code",
   "execution_count": 2,
   "id": "f169f49c-6a2d-4ade-8b84-d4a852e3f954",
   "metadata": {},
   "outputs": [],
   "source": [
    "# Función para obtener respuesta de OpenAI Chat\n",
    "def obtener_respuesta_con_dataframe(pregunta):\n",
    "    try:\n",
    "        # Crear el prompt para GPT-4\n",
    "        prompt = pregunta\n",
    "\n",
    "        # Llamar a la API de OpenAI para obtener la respuesta\n",
    "        completion = client.chat.completions.create(\n",
    "            model=\"gpt-4o\",\n",
    "            messages=[\n",
    "                {\"role\": \"system\", \"content\": \"Eres un ayudante que es experto en Python, Pandas y Matplotlib \"},\n",
    "                {\"role\": \"user\", \"content\": prompt}\n",
    "            ]\n",
    "        )\n",
    "\n",
    "        # Obtener la respuesta del asistente\n",
    "        respuesta = completion.choices[0].message.content\n",
    "\n",
    "        # Ejecutar el código generado por la API utilizando exec()\n",
    "        #exec(respuesta)\n",
    "\n",
    "        # Mostrar la respuesta utilizando Markdown\n",
    "        #display(Markdown(respuesta))\n",
    "\n",
    "        # Devolver la respuesta\n",
    "        return respuesta\n",
    "    except Exception as e:\n",
    "        # Imprimir el error si ocurre algún problema\n",
    "        print(\"Error al obtener respuesta de OpenAI:\", str(e))\n",
    "\n",
    "# Ejemplo de uso\n",
    "#pregunta = \"¿Qué análisis podríamos realizar con este modelo?\"\n",
    "#respuesta = obtener_respuesta_con_dataframe(pregunta)\n",
    "\n",
    "# Mostrar la respuesta utilizando Markdown\n",
    "#display(Markdown(respuesta))"
   ]
  },
  {
   "cell_type": "code",
   "execution_count": 3,
   "id": "baaeb0dc-8c82-45e6-88e9-4e9badbdfc9a",
   "metadata": {},
   "outputs": [
    {
     "data": {
      "text/markdown": [
       "Integrar OpenAI con Jupyter notebooks permite realizar tareas como análisis de datos, generación de contenido o experimentación con modelos de lenguaje, directamente desde un entorno interactivo. Aquí te explico cómo puedes hacerlo:\n",
       "\n",
       "1. **Instalación de Bibliotecas**:\n",
       "   Primero, asegúrate de tener instaladas las bibliotecas necesarias. Necesitarás `openai` para interactuar con la API de OpenAI, y opcionalmente `jupyter` si aún no lo has instalado.\n",
       "\n",
       "   ```bash\n",
       "   pip install openai jupyter\n",
       "   ```\n",
       "\n",
       "2. **Obtener una Clave API de OpenAI**:\n",
       "   Deberás crear una cuenta en OpenAI (si no la tienes) y obtener una clave API. Esto se hace desde el panel de control de OpenAI en su sitio web, bajo la sección de API.\n",
       "\n",
       "3. **Configurar la Clave API en Jupyter**:\n",
       "   Puedes configurar tu clave API directamente dentro de un Jupyter Notebook. Una buena práctica es utilizar variables de entorno para manejar las claves de API. Puedes hacerlo con el módulo `os`.\n",
       "\n",
       "   ```python\n",
       "   import os\n",
       "   import openai\n",
       "\n",
       "   # Configura tu clave API\n",
       "   os.environ[\"OPENAI_API_KEY\"] = \"tu_clave_api\"\n",
       "\n",
       "   # Configura la API de OpenAI\n",
       "   openai.api_key = os.getenv(\"OPENAI_API_KEY\")\n",
       "   ```\n",
       "\n",
       "4. **Interacción con la API de OpenAI**:\n",
       "   Ahora que tienes configurada tu clave API, puedes empezar a interactuar con la API de OpenAI. Por ejemplo, para utilizar el modelo GPT-3, puedes hacer lo siguiente:\n",
       "\n",
       "   ```python\n",
       "   response = openai.Completion.create(\n",
       "       engine=\"text-davinci-003\",  # o el modelo que prefieras\n",
       "       prompt=\"Explícame la teoría de la relatividad en términos simples.\",\n",
       "       max_tokens=150\n",
       "   )\n",
       "\n",
       "   print(response.choices[0].text.strip())\n",
       "   ```\n",
       "\n",
       "5. **Uso de los Resultados**:\n",
       "   Una vez que obtengas una respuesta de la API, podrás usarla dentro de tu notebook para diferentes propósitos, como análisis de texto, generación de contenido o extracción de información.\n",
       "\n",
       "6. **Uso Avanzado**:\n",
       "   - Considera utilizar otras bibliotecas como `Pandas` y `Matplotlib` para analizar y visualizar cualquier dato adicional que manejes con OpenAI.\n",
       "   - Experimenta con otras capacidades de los modelos de OpenAI, como el manejo de imágenes (DALL-E) o el ajuste fino de modelos para tareas específicas.\n",
       "\n",
       "Siguiendo estos pasos, podrás integrar OpenAI en tu flujo de trabajo en Jupyter de una manera eficiente, lo cual es muy útil para una variedad de aplicaciones en ciencia de datos, desarrollo de proyectos de IA, y más."
      ],
      "text/plain": [
       "<IPython.core.display.Markdown object>"
      ]
     },
     "metadata": {},
     "output_type": "display_data"
    }
   ],
   "source": [
    "# Ejemplo de uso\n",
    "pregunta = \"Como podrías ayudarme a integrar OpenAI y Jupyter?\"\n",
    "respuesta = obtener_respuesta_con_dataframe(pregunta)\n",
    "\n",
    "# Mostrar la respuesta utilizando Markdown\n",
    "display(Markdown(respuesta))"
   ]
  },
  {
   "cell_type": "code",
   "execution_count": 4,
   "id": "ce83203a-b532-4f47-bbea-eab77f2ead2a",
   "metadata": {},
   "outputs": [
    {
     "data": {
      "text/markdown": [
       "En Python, existen varias bibliotecas excelentes para la visualización de datos. Aquí te menciono algunas de las más populares y ampliamente utilizadas:\n",
       "\n",
       "1. **Matplotlib**: Es la biblioteca base para la visualización en Python y es muy poderosa. Ofrece un control detallado sobre los elementos del gráfico y es adecuada para crear una amplia gama de gráficos, desde simples hasta complejos.\n",
       "\n",
       "2. **Seaborn**: Construida sobre Matplotlib, Seaborn ofrece una interfaz de alto nivel para crear gráficos estadísticos atractivos y con estilo. Es excelente para visualizaciones relacionadas con análisis estadísticos.\n",
       "\n",
       "3. **Pandas Visualization**: Las series de datos y los dataframes de Pandas tienen métodos incorporados para crear gráficos rápidos y sencillos usando Matplotlib en el backend.\n",
       "\n",
       "4. **Plotly**: Ofrece gráficos interactivos de alta calidad. Es ideal para aplicaciones web y dashboards, y es particularmente útil cuando se necesita interactividad.\n",
       "\n",
       "5. **Bokeh**: Otra biblioteca para crear visualizaciones interactivas que pueden ser fácilmente integradas en aplicaciones web. Es conveniente para gráficos complejos y dashboards.\n",
       "\n",
       "6. **Altair**: Basada en el lenguaje de visualización de gráficos Vega y Vega-Lite, Altair es una biblioteca declarativa que facilita la creación de visualizaciones complejas con menos líneas de código.\n",
       "\n",
       "7. **ggplot (ggplot-python)**: Inspirada en la biblioteca ggplot2 de R, proporciona una gramática de gráficos en Python que puede ser particularmente potente para aquellos familiarizados con el enfoque de gráficos \"grammar of graphics\".\n",
       "\n",
       "8. **Holoviews**: Construida encima de Matplotlib, Bokeh y Plotly, permite crear rápidamente gráficos interactivos con pocas líneas de código y es muy útil cuando se trabaja con grandes conjuntos de datos.\n",
       "\n",
       "La elección de la biblioteca puede depender de tus necesidades específicas, como la necesidad de interactividad, la complejidad de los gráficos o la familiaridad con los lenguajes de terminología y concepto (como en ggplot). Matplotlib y Seaborn son excelentes puntos de partida, mientras que Plotly y Bokeh son opciones robustas para quienes requieren interactividad."
      ],
      "text/plain": [
       "<IPython.core.display.Markdown object>"
      ]
     },
     "metadata": {},
     "output_type": "display_data"
    }
   ],
   "source": [
    "# Ejemplo de uso continuado en una nueva celda de Jupyter\n",
    "nueva_pregunta = \"¿Qué bibliotecas recomiendas para visualización de datos en Python?\"\n",
    "nueva_respuesta = obtener_respuesta_con_dataframe(nueva_pregunta)\n",
    "\n",
    "# Mostrar la nueva respuesta utilizando Markdown\n",
    "display(Markdown(nueva_respuesta))"
   ]
  },
  {
   "cell_type": "code",
   "execution_count": null,
   "id": "dbea8103-83a2-4f60-a033-d5d9cf178f76",
   "metadata": {},
   "outputs": [],
   "source": []
  }
 ],
 "metadata": {
  "kernelspec": {
   "display_name": "Python 3 (ipykernel)",
   "language": "python",
   "name": "python3"
  },
  "language_info": {
   "codemirror_mode": {
    "name": "ipython",
    "version": 3
   },
   "file_extension": ".py",
   "mimetype": "text/x-python",
   "name": "python",
   "nbconvert_exporter": "python",
   "pygments_lexer": "ipython3",
   "version": "3.13.2"
  }
 },
 "nbformat": 4,
 "nbformat_minor": 5
}
