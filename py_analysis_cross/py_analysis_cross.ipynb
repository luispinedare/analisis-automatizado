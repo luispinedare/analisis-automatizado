{
 "cells": [
  {
   "cell_type": "code",
   "execution_count": 1,
   "id": "cb9261a2-9225-4246-80ad-1bee24d35e9b",
   "metadata": {
    "editable": true,
    "slideshow": {
     "slide_type": ""
    },
    "tags": []
   },
   "outputs": [],
   "source": [
    "# Importar librerías necesarias\n",
    "from openai import OpenAI\n",
    "import pandas as pd\n",
    "import json\n",
    "import ipywidgets as widgets\n",
    "from IPython.display import display, clear_output, Markdown\n",
    "import numpy as np\n",
    "import random\n",
    "\n",
    "# Crear una instancia del cliente de OpenAI\n",
    "client = OpenAI()"
   ]
  },
  {
   "cell_type": "code",
   "execution_count": 2,
   "id": "934c5825-6ae4-4f03-95fc-48b018e96e27",
   "metadata": {},
   "outputs": [
    {
     "data": {
      "text/html": [
       "<style type=\"text/css\">\n",
       "#T_5c26a th {\n",
       "  font-size: 10px;\n",
       "}\n",
       "#T_5c26a td {\n",
       "  font-size: 10px;\n",
       "}\n",
       "</style>\n",
       "<table id=\"T_5c26a\">\n",
       "  <thead>\n",
       "    <tr>\n",
       "      <th class=\"blank level0\" >&nbsp;</th>\n",
       "      <th id=\"T_5c26a_level0_col0\" class=\"col_heading level0 col0\" >ID_observación</th>\n",
       "      <th id=\"T_5c26a_level0_col1\" class=\"col_heading level0 col1\" >Especie</th>\n",
       "      <th id=\"T_5c26a_level0_col2\" class=\"col_heading level0 col2\" >Zona</th>\n",
       "      <th id=\"T_5c26a_level0_col3\" class=\"col_heading level0 col3\" >Hora_observación</th>\n",
       "      <th id=\"T_5c26a_level0_col4\" class=\"col_heading level0 col4\" >Duración_observación_min</th>\n",
       "      <th id=\"T_5c26a_level0_col5\" class=\"col_heading level0 col5\" >Cantidad_individuos</th>\n",
       "      <th id=\"T_5c26a_level0_col6\" class=\"col_heading level0 col6\" >Temperatura_C</th>\n",
       "      <th id=\"T_5c26a_level0_col7\" class=\"col_heading level0 col7\" >Humedad_%</th>\n",
       "      <th id=\"T_5c26a_level0_col8\" class=\"col_heading level0 col8\" >Viento_kmh</th>\n",
       "      <th id=\"T_5c26a_level0_col9\" class=\"col_heading level0 col9\" >Comportamiento</th>\n",
       "      <th id=\"T_5c26a_level0_col10\" class=\"col_heading level0 col10\" >Interacción_humana</th>\n",
       "      <th id=\"T_5c26a_level0_col11\" class=\"col_heading level0 col11\" >Presencia_predador</th>\n",
       "      <th id=\"T_5c26a_level0_col12\" class=\"col_heading level0 col12\" >Fecha_observación</th>\n",
       "      <th id=\"T_5c26a_level0_col13\" class=\"col_heading level0 col13\" >Observador</th>\n",
       "    </tr>\n",
       "  </thead>\n",
       "  <tbody>\n",
       "    <tr>\n",
       "      <th id=\"T_5c26a_level0_row0\" class=\"row_heading level0 row0\" >0</th>\n",
       "      <td id=\"T_5c26a_row0_col0\" class=\"data row0 col0\" >OBS_0001</td>\n",
       "      <td id=\"T_5c26a_row0_col1\" class=\"data row0 col1\" >Queltehue</td>\n",
       "      <td id=\"T_5c26a_row0_col2\" class=\"data row0 col2\" >Suburbana</td>\n",
       "      <td id=\"T_5c26a_row0_col3\" class=\"data row0 col3\" >Mañana</td>\n",
       "      <td id=\"T_5c26a_row0_col4\" class=\"data row0 col4\" >24.700000</td>\n",
       "      <td id=\"T_5c26a_row0_col5\" class=\"data row0 col5\" >2</td>\n",
       "      <td id=\"T_5c26a_row0_col6\" class=\"data row0 col6\" >21.600000</td>\n",
       "      <td id=\"T_5c26a_row0_col7\" class=\"data row0 col7\" >62.400000</td>\n",
       "      <td id=\"T_5c26a_row0_col8\" class=\"data row0 col8\" >22.300000</td>\n",
       "      <td id=\"T_5c26a_row0_col9\" class=\"data row0 col9\" >Alimentación</td>\n",
       "      <td id=\"T_5c26a_row0_col10\" class=\"data row0 col10\" >No</td>\n",
       "      <td id=\"T_5c26a_row0_col11\" class=\"data row0 col11\" >Sí</td>\n",
       "      <td id=\"T_5c26a_row0_col12\" class=\"data row0 col12\" >2023-07-14 00:00:00</td>\n",
       "      <td id=\"T_5c26a_row0_col13\" class=\"data row0 col13\" >Camila</td>\n",
       "    </tr>\n",
       "    <tr>\n",
       "      <th id=\"T_5c26a_level0_row1\" class=\"row_heading level0 row1\" >1</th>\n",
       "      <td id=\"T_5c26a_row1_col0\" class=\"data row1 col0\" >OBS_0002</td>\n",
       "      <td id=\"T_5c26a_row1_col1\" class=\"data row1 col1\" >Picaflor</td>\n",
       "      <td id=\"T_5c26a_row1_col2\" class=\"data row1 col2\" >Suburbana</td>\n",
       "      <td id=\"T_5c26a_row1_col3\" class=\"data row1 col3\" >Mediodía</td>\n",
       "      <td id=\"T_5c26a_row1_col4\" class=\"data row1 col4\" >31.600000</td>\n",
       "      <td id=\"T_5c26a_row1_col5\" class=\"data row1 col5\" >5</td>\n",
       "      <td id=\"T_5c26a_row1_col6\" class=\"data row1 col6\" >26.300000</td>\n",
       "      <td id=\"T_5c26a_row1_col7\" class=\"data row1 col7\" >66.000000</td>\n",
       "      <td id=\"T_5c26a_row1_col8\" class=\"data row1 col8\" >6.700000</td>\n",
       "      <td id=\"T_5c26a_row1_col9\" class=\"data row1 col9\" >Alimentación</td>\n",
       "      <td id=\"T_5c26a_row1_col10\" class=\"data row1 col10\" >No</td>\n",
       "      <td id=\"T_5c26a_row1_col11\" class=\"data row1 col11\" >No</td>\n",
       "      <td id=\"T_5c26a_row1_col12\" class=\"data row1 col12\" >2023-10-07 00:00:00</td>\n",
       "      <td id=\"T_5c26a_row1_col13\" class=\"data row1 col13\" >Camila</td>\n",
       "    </tr>\n",
       "    <tr>\n",
       "      <th id=\"T_5c26a_level0_row2\" class=\"row_heading level0 row2\" >2</th>\n",
       "      <td id=\"T_5c26a_row2_col0\" class=\"data row2 col0\" >OBS_0003</td>\n",
       "      <td id=\"T_5c26a_row2_col1\" class=\"data row2 col1\" >Gorrión</td>\n",
       "      <td id=\"T_5c26a_row2_col2\" class=\"data row2 col2\" >Urbana</td>\n",
       "      <td id=\"T_5c26a_row2_col3\" class=\"data row2 col3\" >Mañana</td>\n",
       "      <td id=\"T_5c26a_row2_col4\" class=\"data row2 col4\" >47.300000</td>\n",
       "      <td id=\"T_5c26a_row2_col5\" class=\"data row2 col5\" >5</td>\n",
       "      <td id=\"T_5c26a_row2_col6\" class=\"data row2 col6\" >17.300000</td>\n",
       "      <td id=\"T_5c26a_row2_col7\" class=\"data row2 col7\" >64.900000</td>\n",
       "      <td id=\"T_5c26a_row2_col8\" class=\"data row2 col8\" >12.100000</td>\n",
       "      <td id=\"T_5c26a_row2_col9\" class=\"data row2 col9\" >Defensa de territorio</td>\n",
       "      <td id=\"T_5c26a_row2_col10\" class=\"data row2 col10\" >No</td>\n",
       "      <td id=\"T_5c26a_row2_col11\" class=\"data row2 col11\" >No</td>\n",
       "      <td id=\"T_5c26a_row2_col12\" class=\"data row2 col12\" >2023-10-10 00:00:00</td>\n",
       "      <td id=\"T_5c26a_row2_col13\" class=\"data row2 col13\" >Luis</td>\n",
       "    </tr>\n",
       "    <tr>\n",
       "      <th id=\"T_5c26a_level0_row3\" class=\"row_heading level0 row3\" >3</th>\n",
       "      <td id=\"T_5c26a_row3_col0\" class=\"data row3 col0\" >OBS_0004</td>\n",
       "      <td id=\"T_5c26a_row3_col1\" class=\"data row3 col1\" >Queltehue</td>\n",
       "      <td id=\"T_5c26a_row3_col2\" class=\"data row3 col2\" >Urbana</td>\n",
       "      <td id=\"T_5c26a_row3_col3\" class=\"data row3 col3\" >Tarde</td>\n",
       "      <td id=\"T_5c26a_row3_col4\" class=\"data row3 col4\" >12.800000</td>\n",
       "      <td id=\"T_5c26a_row3_col5\" class=\"data row3 col5\" >3</td>\n",
       "      <td id=\"T_5c26a_row3_col6\" class=\"data row3 col6\" >18.100000</td>\n",
       "      <td id=\"T_5c26a_row3_col7\" class=\"data row3 col7\" >72.600000</td>\n",
       "      <td id=\"T_5c26a_row3_col8\" class=\"data row3 col8\" >19.100000</td>\n",
       "      <td id=\"T_5c26a_row3_col9\" class=\"data row3 col9\" >Reposo</td>\n",
       "      <td id=\"T_5c26a_row3_col10\" class=\"data row3 col10\" >Sí</td>\n",
       "      <td id=\"T_5c26a_row3_col11\" class=\"data row3 col11\" >No</td>\n",
       "      <td id=\"T_5c26a_row3_col12\" class=\"data row3 col12\" >2023-02-09 00:00:00</td>\n",
       "      <td id=\"T_5c26a_row3_col13\" class=\"data row3 col13\" >Luis</td>\n",
       "    </tr>\n",
       "    <tr>\n",
       "      <th id=\"T_5c26a_level0_row4\" class=\"row_heading level0 row4\" >4</th>\n",
       "      <td id=\"T_5c26a_row4_col0\" class=\"data row4 col0\" >OBS_0005</td>\n",
       "      <td id=\"T_5c26a_row4_col1\" class=\"data row4 col1\" >Tenca</td>\n",
       "      <td id=\"T_5c26a_row4_col2\" class=\"data row4 col2\" >Rural</td>\n",
       "      <td id=\"T_5c26a_row4_col3\" class=\"data row4 col3\" >Tarde</td>\n",
       "      <td id=\"T_5c26a_row4_col4\" class=\"data row4 col4\" >44.000000</td>\n",
       "      <td id=\"T_5c26a_row4_col5\" class=\"data row4 col5\" >1</td>\n",
       "      <td id=\"T_5c26a_row4_col6\" class=\"data row4 col6\" >16.400000</td>\n",
       "      <td id=\"T_5c26a_row4_col7\" class=\"data row4 col7\" >57.700000</td>\n",
       "      <td id=\"T_5c26a_row4_col8\" class=\"data row4 col8\" >11.600000</td>\n",
       "      <td id=\"T_5c26a_row4_col9\" class=\"data row4 col9\" >Vuelo</td>\n",
       "      <td id=\"T_5c26a_row4_col10\" class=\"data row4 col10\" >Sí</td>\n",
       "      <td id=\"T_5c26a_row4_col11\" class=\"data row4 col11\" >No</td>\n",
       "      <td id=\"T_5c26a_row4_col12\" class=\"data row4 col12\" >2023-07-08 00:00:00</td>\n",
       "      <td id=\"T_5c26a_row4_col13\" class=\"data row4 col13\" >Camila</td>\n",
       "    </tr>\n",
       "  </tbody>\n",
       "</table>\n"
      ],
      "text/plain": [
       "<pandas.io.formats.style.Styler at 0x7f8e2b144c20>"
      ]
     },
     "metadata": {},
     "output_type": "display_data"
    },
    {
     "data": {
      "text/html": [
       "<style type=\"text/css\">\n",
       "#T_03ebd th {\n",
       "  font-size: 10px;\n",
       "}\n",
       "#T_03ebd td {\n",
       "  font-size: 10px;\n",
       "}\n",
       "</style>\n",
       "<table id=\"T_03ebd\">\n",
       "  <thead>\n",
       "    <tr>\n",
       "      <th class=\"blank level0\" >&nbsp;</th>\n",
       "      <th id=\"T_03ebd_level0_col0\" class=\"col_heading level0 col0\" >Zona</th>\n",
       "      <th id=\"T_03ebd_level0_col1\" class=\"col_heading level0 col1\" >Especie</th>\n",
       "      <th id=\"T_03ebd_level0_col2\" class=\"col_heading level0 col2\" >Cobertura_vegetal_%</th>\n",
       "      <th id=\"T_03ebd_level0_col3\" class=\"col_heading level0 col3\" >Densidad_humana</th>\n",
       "      <th id=\"T_03ebd_level0_col4\" class=\"col_heading level0 col4\" >Nivel_ruido_dB</th>\n",
       "      <th id=\"T_03ebd_level0_col5\" class=\"col_heading level0 col5\" >Frecuencia_predadores</th>\n",
       "      <th id=\"T_03ebd_level0_col6\" class=\"col_heading level0 col6\" >Disponibilidad_nidos</th>\n",
       "      <th id=\"T_03ebd_level0_col7\" class=\"col_heading level0 col7\" >Presencia_cuerpos_agua</th>\n",
       "      <th id=\"T_03ebd_level0_col8\" class=\"col_heading level0 col8\" >Zona_intervenida</th>\n",
       "    </tr>\n",
       "  </thead>\n",
       "  <tbody>\n",
       "    <tr>\n",
       "      <th id=\"T_03ebd_level0_row0\" class=\"row_heading level0 row0\" >0</th>\n",
       "      <td id=\"T_03ebd_row0_col0\" class=\"data row0 col0\" >Urbana</td>\n",
       "      <td id=\"T_03ebd_row0_col1\" class=\"data row0 col1\" >Queltehue</td>\n",
       "      <td id=\"T_03ebd_row0_col2\" class=\"data row0 col2\" >21.800000</td>\n",
       "      <td id=\"T_03ebd_row0_col3\" class=\"data row0 col3\" >Baja</td>\n",
       "      <td id=\"T_03ebd_row0_col4\" class=\"data row0 col4\" >73.600000</td>\n",
       "      <td id=\"T_03ebd_row0_col5\" class=\"data row0 col5\" >Media</td>\n",
       "      <td id=\"T_03ebd_row0_col6\" class=\"data row0 col6\" >Alta</td>\n",
       "      <td id=\"T_03ebd_row0_col7\" class=\"data row0 col7\" >Sí</td>\n",
       "      <td id=\"T_03ebd_row0_col8\" class=\"data row0 col8\" >True</td>\n",
       "    </tr>\n",
       "    <tr>\n",
       "      <th id=\"T_03ebd_level0_row1\" class=\"row_heading level0 row1\" >1</th>\n",
       "      <td id=\"T_03ebd_row1_col0\" class=\"data row1 col0\" >Urbana</td>\n",
       "      <td id=\"T_03ebd_row1_col1\" class=\"data row1 col1\" >Picaflor</td>\n",
       "      <td id=\"T_03ebd_row1_col2\" class=\"data row1 col2\" >19.600000</td>\n",
       "      <td id=\"T_03ebd_row1_col3\" class=\"data row1 col3\" >Media</td>\n",
       "      <td id=\"T_03ebd_row1_col4\" class=\"data row1 col4\" >65.000000</td>\n",
       "      <td id=\"T_03ebd_row1_col5\" class=\"data row1 col5\" >Baja</td>\n",
       "      <td id=\"T_03ebd_row1_col6\" class=\"data row1 col6\" >Alta</td>\n",
       "      <td id=\"T_03ebd_row1_col7\" class=\"data row1 col7\" >Sí</td>\n",
       "      <td id=\"T_03ebd_row1_col8\" class=\"data row1 col8\" >True</td>\n",
       "    </tr>\n",
       "    <tr>\n",
       "      <th id=\"T_03ebd_level0_row2\" class=\"row_heading level0 row2\" >2</th>\n",
       "      <td id=\"T_03ebd_row2_col0\" class=\"data row2 col0\" >Urbana</td>\n",
       "      <td id=\"T_03ebd_row2_col1\" class=\"data row2 col1\" >Gorrión</td>\n",
       "      <td id=\"T_03ebd_row2_col2\" class=\"data row2 col2\" >29.600000</td>\n",
       "      <td id=\"T_03ebd_row2_col3\" class=\"data row2 col3\" >Media</td>\n",
       "      <td id=\"T_03ebd_row2_col4\" class=\"data row2 col4\" >63.500000</td>\n",
       "      <td id=\"T_03ebd_row2_col5\" class=\"data row2 col5\" >Media</td>\n",
       "      <td id=\"T_03ebd_row2_col6\" class=\"data row2 col6\" >Alta</td>\n",
       "      <td id=\"T_03ebd_row2_col7\" class=\"data row2 col7\" >No</td>\n",
       "      <td id=\"T_03ebd_row2_col8\" class=\"data row2 col8\" >True</td>\n",
       "    </tr>\n",
       "    <tr>\n",
       "      <th id=\"T_03ebd_level0_row3\" class=\"row_heading level0 row3\" >3</th>\n",
       "      <td id=\"T_03ebd_row3_col0\" class=\"data row3 col0\" >Urbana</td>\n",
       "      <td id=\"T_03ebd_row3_col1\" class=\"data row3 col1\" >Tenca</td>\n",
       "      <td id=\"T_03ebd_row3_col2\" class=\"data row3 col2\" >42.800000</td>\n",
       "      <td id=\"T_03ebd_row3_col3\" class=\"data row3 col3\" >Baja</td>\n",
       "      <td id=\"T_03ebd_row3_col4\" class=\"data row3 col4\" >74.600000</td>\n",
       "      <td id=\"T_03ebd_row3_col5\" class=\"data row3 col5\" >Baja</td>\n",
       "      <td id=\"T_03ebd_row3_col6\" class=\"data row3 col6\" >Baja</td>\n",
       "      <td id=\"T_03ebd_row3_col7\" class=\"data row3 col7\" >No</td>\n",
       "      <td id=\"T_03ebd_row3_col8\" class=\"data row3 col8\" >True</td>\n",
       "    </tr>\n",
       "    <tr>\n",
       "      <th id=\"T_03ebd_level0_row4\" class=\"row_heading level0 row4\" >4</th>\n",
       "      <td id=\"T_03ebd_row4_col0\" class=\"data row4 col0\" >Urbana</td>\n",
       "      <td id=\"T_03ebd_row4_col1\" class=\"data row4 col1\" >Diucón</td>\n",
       "      <td id=\"T_03ebd_row4_col2\" class=\"data row4 col2\" >13.700000</td>\n",
       "      <td id=\"T_03ebd_row4_col3\" class=\"data row4 col3\" >Media</td>\n",
       "      <td id=\"T_03ebd_row4_col4\" class=\"data row4 col4\" >56.700000</td>\n",
       "      <td id=\"T_03ebd_row4_col5\" class=\"data row4 col5\" >Baja</td>\n",
       "      <td id=\"T_03ebd_row4_col6\" class=\"data row4 col6\" >Alta</td>\n",
       "      <td id=\"T_03ebd_row4_col7\" class=\"data row4 col7\" >Sí</td>\n",
       "      <td id=\"T_03ebd_row4_col8\" class=\"data row4 col8\" >True</td>\n",
       "    </tr>\n",
       "  </tbody>\n",
       "</table>\n"
      ],
      "text/plain": [
       "<pandas.io.formats.style.Styler at 0x7f8e2c826c10>"
      ]
     },
     "metadata": {},
     "output_type": "display_data"
    }
   ],
   "source": [
    "# Dataset de pruebas\n",
    "# Establecer semillas para reproducibilidad\n",
    "random.seed(42)\n",
    "np.random.seed(42)\n",
    "\n",
    "# Número de observaciones\n",
    "n = 200\n",
    "\n",
    "# Crear primer DataFrame: Observaciones individuales de aves\n",
    "df_main_1 = pd.DataFrame({\n",
    "    \"ID_observación\": [f\"OBS_{i+1:04d}\" for i in range(n)],\n",
    "    \"Especie\": np.random.choice(\n",
    "        [\"Zorzal\", \"Chincol\", \"Tenca\", \"Picaflor\", \"Gorrión\", \"Peuco\", \"Queltehue\", \"Diucón\"], size=n),\n",
    "    \"Zona\": np.random.choice([\"Urbana\", \"Rural\", \"Suburbana\"], size=n),\n",
    "    \"Hora_observación\": np.random.choice(\n",
    "        [\"Mañana\", \"Mediodía\", \"Tarde\", \"Noche\"], size=n),\n",
    "    \"Duración_observación_min\": np.random.normal(loc=30, scale=12, size=n).round(1),\n",
    "    \"Cantidad_individuos\": np.random.poisson(lam=4, size=n),\n",
    "    \"Temperatura_C\": np.random.normal(loc=19, scale=4.5, size=n).round(1),\n",
    "    \"Humedad_%\": np.random.normal(loc=55, scale=15, size=n).round(1),\n",
    "    \"Viento_kmh\": np.random.normal(loc=12, scale=5, size=n).round(1),\n",
    "    \"Comportamiento\": np.random.choice(\n",
    "        [\"Alimentación\", \"Canto\", \"Vuelo\", \"Reposo\", \"Interacción\", \"Defensa de territorio\"], size=n),\n",
    "    \"Interacción_humana\": np.random.choice([\"Sí\", \"No\"], size=n, p=[0.4, 0.6]),\n",
    "    \"Presencia_predador\": np.random.choice([\"Sí\", \"No\"], size=n, p=[0.3, 0.7]),\n",
    "    \"Fecha_observación\": pd.to_datetime(np.random.choice(pd.date_range(\"2023-01-01\", \"2023-12-31\"), size=n)),\n",
    "    \"Observador\": np.random.choice(\n",
    "        [\"Luis\", \"Camila\", \"Ignacio\", \"Valentina\", \"Marcelo\", \"Antonia\"], size=n),\n",
    "})\n",
    "\n",
    "# Segundo DataFrame: Condiciones ecológicas por Zona y Especie\n",
    "zonas = [\"Urbana\", \"Rural\", \"Suburbana\"]\n",
    "especies = df_main_1[\"Especie\"].unique()\n",
    "rows = []\n",
    "\n",
    "for zona in zonas:\n",
    "    for especie in especies:\n",
    "        rows.append({\n",
    "            \"Zona\": zona,\n",
    "            \"Especie\": especie,\n",
    "            \"Cobertura_vegetal_%\": round(np.clip(np.random.normal(30 if zona == \"Urbana\" else 60, 15), 5, 95), 1),\n",
    "            \"Densidad_humana\": np.random.choice([\"Alta\", \"Media\", \"Baja\"]),\n",
    "            \"Nivel_ruido_dB\": round(np.random.normal(65 if zona == \"Urbana\" else 45, 10), 1),\n",
    "            \"Frecuencia_predadores\": np.random.choice([\"Alta\", \"Media\", \"Baja\"]),\n",
    "            \"Disponibilidad_nidos\": np.random.choice([\"Alta\", \"Media\", \"Baja\"]),\n",
    "            \"Presencia_cuerpos_agua\": np.random.choice([\"Sí\", \"No\"]),\n",
    "            \"Zona_intervenida\": zona == \"Urbana\" and np.random.rand() < 0.8\n",
    "        })\n",
    "\n",
    "df_main_2 = pd.DataFrame(rows)\n",
    "\n",
    "# Muestras para el sistema\n",
    "df_sample_1 = df_main_1.head(3).to_string(index=False)\n",
    "df_sample_2 = df_main_2.head(3).to_string(index=False)\n",
    "\n",
    "# Previsualizar Data Frames\n",
    "display(df_main_1.head(5).style.set_table_styles([{\n",
    "    'selector': 'th',  # Estilo para las celdas de la cabecera\n",
    "    'props': [('font-size', '10px')]  # Cambiar el tamaño de la fuente a pequeño\n",
    "}, {\n",
    "    'selector': 'td',  # Estilo para las celdas de datos\n",
    "    'props': [('font-size', '10px')]  # Cambiar el tamaño de la fuente a pequeño\n",
    "}]))\n",
    "\n",
    "display(df_main_2.head(5).style.set_table_styles([{\n",
    "    'selector': 'th',  # Estilo para las celdas de la cabecera\n",
    "    'props': [('font-size', '10px')]  # Cambiar el tamaño de la fuente a pequeño\n",
    "}, {\n",
    "    'selector': 'td',  # Estilo para las celdas de datos\n",
    "    'props': [('font-size', '10px')]  # Cambiar el tamaño de la fuente a pequeño\n",
    "}]))"
   ]
  },
  {
   "cell_type": "raw",
   "id": "39236492-3e96-4bba-ba81-19bededabe37",
   "metadata": {
    "editable": true,
    "jupyter": {
     "source_hidden": true
    },
    "slideshow": {
     "slide_type": ""
    },
    "tags": []
   },
   "source": [
    "# Configuración DataFrame\n",
    "load_file_1 = 'PATH_TO/FILE_A.xlsx'\n",
    "load_file_2 = 'PATH_TO/FILE_B.xlsx'\n",
    "\n",
    "# Cargar los archivos Excel\n",
    "excel_file_1 = pd.ExcelFile(load_file_1, engine='openpyxl')\n",
    "excel_file_2 = pd.ExcelFile(load_file_2, engine='openpyxl')\n",
    "\n",
    "# Obtener una lista de los nombres de las hojas\n",
    "sheets_1 = excel_file_1.sheet_names\n",
    "sheets_2 = excel_file_2.sheet_names\n",
    "\n",
    "# Crear una cadena en formato Markdown con los nombres de las hojas\n",
    "markdown_text_1 = \"### Hojas de cálculo en el archivo Excel 1:\\n\\n\"\n",
    "for sheet_1 in sheets_1:\n",
    "    markdown_text_1 += f\"- {sheet_1}\\n\"\n",
    "\n",
    "markdown_text_2 = \"### Hojas de cálculo en el archivo Excel 2:\\n\\n\"\n",
    "for sheet_2 in sheets_2:\n",
    "    markdown_text_2 += f\"- {sheet_2}\\n\"\n",
    "\n",
    "# Mostrar el resultado en Markdown\n",
    "display(Markdown(markdown_text_1))\n",
    "display(Markdown(markdown_text_2))"
   ]
  },
  {
   "cell_type": "raw",
   "id": "552dc4d4-a566-44dc-aef9-13d3a88793e0",
   "metadata": {
    "jupyter": {
     "source_hidden": true
    },
    "scrolled": true
   },
   "source": [
    "# Cargar una hoja específica por su nombre para Excel 1\n",
    "sheet_name_1 = 'SHEET_NAME_A'  # Reemplaza con el nombre de la hoja que quieres cargar\n",
    "\n",
    "# Cargar DataFrame de Excel 1\n",
    "if sheet_name_1 in sheets_1:\n",
    "    df_main_1 = pd.read_excel(excel_file_1, sheet_name=sheet_name_1)\n",
    "    # Preparar DataFrame de Referencia\n",
    "    df_sample_1 = df_main_1.head(5).to_string(index=False)\n",
    "\n",
    "# Desplegar el DataFrame 1\n",
    "    display(df_main_1.head(20).style.set_table_styles([{\n",
    "        'selector': 'th',  # Estilo para las celdas de la cabecera\n",
    "        'props': [('font-size', '10px')]  # Cambiar el tamaño de la fuente a pequeño\n",
    "    }, {\n",
    "        'selector': 'td',  # Estilo para las celdas de datos\n",
    "        'props': [('font-size', '10px')]  # Cambiar el tamaño de la fuente a pequeño\n",
    "    }]))\n",
    "else:\n",
    "    print(f\"La hoja '{sheet_name_1}' no existe en el archivo Excel 1.\")"
   ]
  },
  {
   "cell_type": "raw",
   "id": "7c3240da-0e56-4cea-b3d9-e82b746354ae",
   "metadata": {
    "jupyter": {
     "source_hidden": true
    }
   },
   "source": [
    "# Cargar una hoja específica por su nombre para Excel 2\n",
    "sheet_name_2 = 'SHEET_NAME_B'  # Reemplaza con el nombre de la hoja que quieres cargar\n",
    "\n",
    "# Cargar DataFrame de Excel 2\n",
    "if sheet_name_2 in sheets_2:\n",
    "    df_main_2 = pd.read_excel(excel_file_2, sheet_name=sheet_name_2)\n",
    "    # Preparar DataFrame de Referencia\n",
    "    df_sample_2 = df_main_2.head(5).to_string(index=False)\n",
    "    # Desplegar el DataFrame 2\n",
    "    display(df_main_2.head(5).style.set_table_styles([{\n",
    "        'selector': 'th',  # Estilo para las celdas de la cabecera\n",
    "        'props': [('font-size', '10px')]  # Cambiar el tamaño de la fuente a pequeño\n",
    "    }, {\n",
    "        'selector': 'td',  # Estilo para las celdas de datos\n",
    "        'props': [('font-size', '10px')]  # Cambiar el tamaño de la fuente a pequeño\n",
    "    }]))\n",
    "else:\n",
    "    print(f\"La hoja '{sheet_name_2}' no existe en el archivo Excel 2.\")"
   ]
  },
  {
   "cell_type": "code",
   "execution_count": 3,
   "id": "1aba9418-9813-4e4b-b660-7d8c374428be",
   "metadata": {
    "editable": true,
    "slideshow": {
     "slide_type": ""
    },
    "tags": []
   },
   "outputs": [],
   "source": [
    "# Configuración GPT\n",
    "gpt_model = 'gpt-4o' # gpt-3.5-turbo-0125 o gpt-4o\n",
    "\n",
    "parametros = {\n",
    "    \"max_tokens\": 2000,\n",
    "    \"temperature\": 0.5,\n",
    "    \"top_p\": 0.8,\n",
    "    \"presence_penalty\": 0.3,\n",
    "    \"frequency_penalty\": 0.5\n",
    "}"
   ]
  },
  {
   "cell_type": "code",
   "execution_count": 4,
   "id": "3aeed3f2-6204-4a25-b70a-9a9f4e644570",
   "metadata": {
    "editable": true,
    "slideshow": {
     "slide_type": ""
    },
    "tags": []
   },
   "outputs": [],
   "source": [
    "# Crear el Contexto del Sistema\n",
    "\n",
    "# Formato de respuesta y ejecución\n",
    "contexto_formato = (\n",
    "    \"Tu salida debe estar en formato JSON, con una única clave 'code'.\\n\"\n",
    "    \"El valor debe ser una cadena de texto que contenga código Python ejecutable.\\n\"\n",
    "    \"Usa `df_main_1` y `df_main_2` como referencia a los DataFrames completos disponibles en variables globales.\\n\"\n",
    "    \"Solo se te muestra un resumen visual (df_sample_1 y df_sample_2).\\n\"\n",
    "    \"El código debe estar listo para ser ejecutado con `exec()`, sin celdas mágicas ni prints redundantes.\\n\"\n",
    "    \"Importa explícitamente cualquier librería que vayas a utilizar.\\n\"\n",
    "    \"Inicializa gráficos con `sns.set_theme()` si incluyes visualizaciones.\\n\"\n",
    "    \"No generes o modifiques DataFrames externos salvo que se indique expresamente en la pregunta.\\n\"\n",
    ")\n",
    "\n",
    "# Enfoque temático y rol del asistente\n",
    "contexto_tema = (\n",
    "    \"Eres un asistente experto en análisis de datos con Python.\\n\"\n",
    "    \"Tu tarea es ayudar al usuario generando código que analice relaciones entre variables\\n\"\n",
    "    \"y cruce información entre múltiples DataFrames si es necesario.\\n\"\n",
    "    \"Puedes usar técnicas de agrupación, filtrado, visualización o resumen estadístico.\\n\"\n",
    "    \"Responde siempre con código funcional y enfocado al análisis solicitado.\\n\"\n",
    ")\n",
    "\n",
    "# Contexto completo combinado\n",
    "contexto_sistema = contexto_formato + \"\\n\" + contexto_tema"
   ]
  },
  {
   "cell_type": "code",
   "execution_count": 15,
   "id": "82112a11-a474-41cd-a65b-8aaac07ba607",
   "metadata": {
    "editable": true,
    "slideshow": {
     "slide_type": ""
    },
    "tags": []
   },
   "outputs": [],
   "source": [
    "# Crear el Prompt e incorpora la Pregunta\n",
    "def obtener_respuesta_con_dataframe(pregunta):\n",
    "    prompt = (\n",
    "        f\"Se muestran muestras de los DataFrames como referencia visual únicamente:\\n\\n\"\n",
    "        f\"df_sample_1:\\n{df_sample_1}\\n\\n\"\n",
    "        f\"df_sample_2:\\n{df_sample_2}\\n\\n\"\n",
    "        \"Estas muestras son ilustrativas. Los DataFrames completos están disponibles como variables globales `df_main_1` y `df_main_2`.\\n\\n\"\n",
    "        f\"Pregunta del usuario:\\n{pregunta}\\n\\n\"\n",
    "        \"Tu tarea es generar **solo código Python** para responder esta pregunta, en un objeto JSON con la estructura exacta:\\n\\n\"\n",
    "        \"`{\\\"code\\\": \\\"<código Python aquí>\\\"}`\\n\\n\"\n",
    "        \"Instrucciones clave:\\n\"\n",
    "        \"- El código debe ser completamente **ejecutable** y no debe incluir comentarios fuera del bloque JSON.\\n\"\n",
    "        \"- Debes usar las variables `df_main_1` o `df_main_2` como referencia al DataFrame completo.\\n\"\n",
    "        \"- No generes DataFrames desde cero ni cargues archivos a menos que la pregunta lo solicite explícitamente.\\n\"\n",
    "        \"- Si usas visualizaciones, aplica `sns.set_theme()` y utiliza gráficos de `seaborn` o `matplotlib`.\\n\"\n",
    "        \"- Usa importaciones estándar como `import pandas as pd`, `import seaborn as sns`, etc., si no están explícitamente presentes.\\n\\n\"\n",
    "        \"No incluyas ninguna explicación textual. Solo retorna el JSON con el bloque de código.\"\n",
    ")\n",
    "\n",
    "\n",
    "    # Consulta API\n",
    "    try:\n",
    "        response = client.chat.completions.create(\n",
    "            model=gpt_model,\n",
    "            response_format={\"type\": \"json_object\"},\n",
    "            messages=[\n",
    "                {\"role\": \"system\", \"content\": contexto_sistema},\n",
    "                {\"role\": \"user\", \"content\": prompt}\n",
    "            ],\n",
    "            **parametros  # Usar el diccionario como argumento con **\n",
    "        )\n",
    "        \n",
    "        respuesta_json = response.choices[0].message.content\n",
    "        codigo_python_dic = json.loads(respuesta_json)\n",
    "\n",
    "        # Verificar y asegurar el uso de 'df_main' en el código\n",
    "        codigo_python = codigo_python_dic['code']\n",
    "        if 'df' not in codigo_python:\n",
    "            raise ValueError(\"El código generado no usa 'df_1'.\")\n",
    "        return codigo_python\n",
    "    except Exception as e:\n",
    "        print(\"Error al obtener respuesta de OpenAI:\", str(e))\n",
    "        return None\n",
    "\n",
    "# Crear widgets interactivos\n",
    "def crear_widgets(codigo_python):\n",
    "    widget_codigo = widgets.Textarea(\n",
    "        value=codigo_python,\n",
    "        layout=widgets.Layout(width='99%', height='300px'),\n",
    "        style={'font_family': 'monospace'}\n",
    "    )\n",
    "\n",
    "    boton_ejecutar = widgets.Button(description=\"Ejecutar\")\n",
    "    output_resultado = widgets.Output(\n",
    "        layout=widgets.Layout(width='99%')\n",
    "    )\n",
    "\n",
    "    def ejecutar_codigo(b):\n",
    "        output_resultado.clear_output()\n",
    "        codigo_editado = widget_codigo.value\n",
    "        with output_resultado:\n",
    "            clear_output(wait=True)\n",
    "            try:\n",
    "                exec(codigo_editado, globals())\n",
    "            except Exception as e:\n",
    "                print(\"Error al ejecutar el código:\", e)\n",
    "\n",
    "    boton_ejecutar.on_click(ejecutar_codigo)\n",
    "\n",
    "    return widget_codigo, boton_ejecutar, output_resultado"
   ]
  },
  {
   "cell_type": "code",
   "execution_count": 16,
   "id": "5f0086d0-03ed-4be7-ad78-979d1afe8aec",
   "metadata": {
    "editable": true,
    "slideshow": {
     "slide_type": ""
    },
    "tags": []
   },
   "outputs": [
    {
     "data": {
      "application/vnd.jupyter.widget-view+json": {
       "model_id": "28c3dd34b598484990d3deb726cb90f4",
       "version_major": 2,
       "version_minor": 0
      },
      "text/plain": [
       "Textarea(value=\"import pandas as pd\\nimport seaborn as sns\\nimport matplotlib.pyplot as plt\\nfrom scipy.stats …"
      ]
     },
     "metadata": {},
     "output_type": "display_data"
    },
    {
     "data": {
      "application/vnd.jupyter.widget-view+json": {
       "model_id": "14817a1b12b8462a9543d362ba794dc4",
       "version_major": 2,
       "version_minor": 0
      },
      "text/plain": [
       "Button(description='Ejecutar', style=ButtonStyle())"
      ]
     },
     "metadata": {},
     "output_type": "display_data"
    },
    {
     "data": {
      "application/vnd.jupyter.widget-view+json": {
       "model_id": "0aee7be6e63d449e9882aa0ddab10d85",
       "version_major": 2,
       "version_minor": 0
      },
      "text/plain": [
       "Output(layout=Layout(width='99%'))"
      ]
     },
     "metadata": {},
     "output_type": "display_data"
    }
   ],
   "source": [
    "# Modulo de consulta y respuesta\n",
    "pregunta = (\n",
    "    \"¿Puedes analizar la distribución de la duración de observación (`Duración_observación_min`) por zona? \"\n",
    "    \"Incluye histogramas separados por zona, con líneas de densidad (`sns.kdeplot`). \"\n",
    "    \"Asegúrate de usar `sns.set_theme()` para estilo. \"\n",
    "    \"Luego, aplica la prueba de normalidad de Shapiro-Wilk por cada zona. \"\n",
    "    \"Entrega una breve interpretación de los resultados según el valor-p. \"\n",
    "    \"No muestres valores `NaN`, y trabaja solo con el DataFrame completo `df_main_1`.\"\n",
    ")\n",
    "\n",
    "codigo_python = obtener_respuesta_con_dataframe(pregunta)\n",
    "if codigo_python:\n",
    "    widget_codigo, boton_ejecutar, output_resultado = crear_widgets(codigo_python)\n",
    "    display(widget_codigo, boton_ejecutar, output_resultado)\n",
    "else:\n",
    "    print(\"No se pudo obtener una respuesta de la API de OpenAI.\")"
   ]
  },
  {
   "cell_type": "code",
   "execution_count": 17,
   "id": "a48f93a9-3afe-448d-8b20-cd89490fd890",
   "metadata": {},
   "outputs": [
    {
     "data": {
      "application/vnd.jupyter.widget-view+json": {
       "model_id": "52bb4885bef740589603a16a306f906a",
       "version_major": 2,
       "version_minor": 0
      },
      "text/plain": [
       "Textarea(value='import pandas as pd\\nfrom scipy.stats import ttest_ind\\nimport seaborn as sns\\nimport matplotl…"
      ]
     },
     "metadata": {},
     "output_type": "display_data"
    },
    {
     "data": {
      "application/vnd.jupyter.widget-view+json": {
       "model_id": "7efc644d63ff4b539476f352aaaff86f",
       "version_major": 2,
       "version_minor": 0
      },
      "text/plain": [
       "Button(description='Ejecutar', style=ButtonStyle())"
      ]
     },
     "metadata": {},
     "output_type": "display_data"
    },
    {
     "data": {
      "application/vnd.jupyter.widget-view+json": {
       "model_id": "e18c40e0353e4fa09f82ff0616b83674",
       "version_major": 2,
       "version_minor": 0
      },
      "text/plain": [
       "Output(layout=Layout(width='99%'))"
      ]
     },
     "metadata": {},
     "output_type": "display_data"
    }
   ],
   "source": [
    "# Modulo de consulta y respuesta\n",
    "pregunta = (\n",
    "    \"¿Puedes comparar si hay diferencias significativas en la duración de observación (`Duración_observación_min`) entre zonas `Urbana` y `Rural` usando una prueba t de Student? \"\n",
    "    \"Incluye un análisis descriptivo previo con medias y desviaciones estándar por zona. \"\n",
    "    \"Realiza la prueba `ttest_ind` de `scipy.stats`, asumiendo varianzas iguales. \"\n",
    "    \"Agrega una interpretación simple basada en el valor-p. \"\n",
    "    \"Puedes usar visualizaciones como boxplots para mostrar las diferencias. \"\n",
    "    \"Aplica `sns.set_theme()` antes de graficar y usa exclusivamente el DataFrame completo `df_main_1`.\"\n",
    ")\n",
    "\n",
    "codigo_python = obtener_respuesta_con_dataframe(pregunta)\n",
    "if codigo_python:\n",
    "    widget_codigo, boton_ejecutar, output_resultado = crear_widgets(codigo_python)\n",
    "    display(widget_codigo, boton_ejecutar, output_resultado)\n",
    "else:\n",
    "    print(\"No se pudo obtener una respuesta de la API de OpenAI.\")"
   ]
  }
 ],
 "metadata": {
  "kernelspec": {
   "display_name": "Python 3 (ipykernel)",
   "language": "python",
   "name": "python3"
  },
  "language_info": {
   "codemirror_mode": {
    "name": "ipython",
    "version": 3
   },
   "file_extension": ".py",
   "mimetype": "text/x-python",
   "name": "python",
   "nbconvert_exporter": "python",
   "pygments_lexer": "ipython3",
   "version": "3.13.2"
  }
 },
 "nbformat": 4,
 "nbformat_minor": 5
}
